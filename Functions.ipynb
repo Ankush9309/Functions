{
  "nbformat": 4,
  "nbformat_minor": 0,
  "metadata": {
    "colab": {
      "provenance": []
    },
    "kernelspec": {
      "name": "python3",
      "display_name": "Python 3"
    },
    "language_info": {
      "name": "python"
    }
  },
  "cells": [
    {
      "cell_type": "markdown",
      "source": [
        " ## Functions"
      ],
      "metadata": {
        "id": "RSQ9J-S8XdDG"
      }
    },
    {
      "cell_type": "markdown",
      "source": [
        "1. What is the difference between a function and a method in Python?\n",
        "  - In Python, both functions and methods are used to perform specific tasks, but there are some key differences between them:\n",
        "    - Function :  \n",
        "            (i) A function is a block of code that performs a specific task.\n",
        "           (ii) It is defined using the def keyword and can exist independently of any object.\n",
        "           (iii) It can be called directly by its name.\n",
        "\n",
        "    - Method :\n",
        "            (i) A method is similar to a function but is associated with an object.\n",
        "            (ii) It is called on an object and can access and modify the object’s data.\n",
        "            (iii) Methods are defined inside a class.\n",
        "\n",
        "2. Explain the concept of function arguments and parameters in Python.\n",
        "  - Parameters are variables listed in a function's definition. Arguments are the values passed to the function when it is called.\n",
        "     \n",
        "     Example:\n",
        "\n",
        "  def add(x, y):  # x and y are parameters  \n",
        "   return x + y\n",
        "\n",
        " add(2, 3)  # 2 and 3 are arguments\n",
        "\n",
        "3. What are the different ways to define and call a function in Python?\n",
        "  - Parameters are variables listed in a function's definition. Arguments are the values passed to the function when it is called.\n",
        "\n",
        "    Example:\n",
        "\n",
        "            def add(x, y):  # x and y are parameters  \n",
        "            return x + y\n",
        "            add(2, 3)  # 2 and 3 are arguments\n",
        "\n",
        "4. What is the purpose of the `return` statement in a Python function?\n",
        "  - The return statement is used to exit a function and send back a result to   the caller.\n",
        "    \n",
        "    Example:\n",
        "            def multiply(a, b):  \n",
        "              return a * b\n",
        "\n",
        "            result = multiply(3, 4)  # result is 12\n",
        "\n",
        "5. What are iterators in Python and how do they differ from iterables?\n",
        "  -  An iterable is an object that can return an iterator (like list, tuple, etc.). An iterator is an object with a next() method that returns elements one at a time.  \n",
        "\n",
        "6. Explain the concept of generators in Python and how they are defined.\n",
        "  -  Generators are functions that yield values one at a time using the yield keyword. They are used to produce a sequence of results lazily.\n",
        "\n",
        "    Example:\n",
        "\n",
        "          def countdown(n):  \n",
        "            while n > 0:  \n",
        "              yield n  \n",
        "              n -= 1\n",
        "          for i in countdown(3):  \n",
        "          print(i)\n",
        "\n",
        "7. What are the advantages of using generators over regular functions?\n",
        "  - They save memory by yielding items one at a time.\n",
        "\n",
        "  - They are more efficient for large data streams.\n",
        "\n",
        "  - They maintain state between calls.\n",
        "\n",
        "        Example:\n",
        "\n",
        "            def gen():  \n",
        "              for i in range(1000000):  \n",
        "                yield i\n",
        "\n",
        "8. What is a lambda function in Python and when is it typically used?\n",
        "  - A lambda function in Python is a small, anonymous (unnamed) function defined using the lambda keyword.It can have any number of arguments, but only one expression.  \n",
        "\n",
        "  - Lambda functions are commonly used when you need a simple function for a short time, especially in places where functions are used as arguments.\n",
        "\n",
        "9. Explain the purpose and usage of the `map()` function in Python.\n",
        "  - map() applies a given function to all items in an iterable.\n",
        "      \n",
        "      Example:\n",
        "\n",
        "            nums = [1, 2, 3]  \n",
        "            squared = list(map(lambda x: x**2, nums))  \n",
        "            print(squared)  # [1, 4, 9]\n",
        "\n",
        "10. What is the difference between `map()`, `reduce()`, and `filter()` functions in Python?\n",
        "  - map() applies a function to each item.\n",
        "  - filter() selects items where the function returns True.\n",
        "  - reduce() applies a rolling computation (from functools).\n",
        "\n",
        "   Example:\n",
        "\n",
        "          from functools import reduce\n",
        "          nums = [1, 2, 3, 4]\n",
        "          mapped = list(map(lambda x: x*2, nums))  # [2, 4, 6, 8]  \n",
        "          filtered = list(filter(lambda x: x % 2 == 0, nums))  # [2, 4]  \n",
        "          reduced = reduce(lambda x, y: x + y, nums)  # 10\n",
        "\n",
        "11. Using pen & Paper write the internal mechanism for sum operation using  reduce function on this given list:[47,11,42,13];       \n",
        "  - Pen & Paper - Reduce Sum Mechanism\n",
        "    We use reduce(lambda x, y: x + y, [47, 11, 42, 13]).\n",
        "    Step 1: Start with the first two elements:\n",
        "          47 + 11 = 58\n",
        "    Step 2: Take the result and add the next element:\n",
        "          58 + 42 = 100\n",
        "    Step 3: Take the result and add the next element:\n",
        "          100 + 13 = 113\n",
        "    Final Result: 113\n",
        "    Structure (how reduce works):\n",
        "    reduce(lambda x, y: x + y, [47, 11, 42, 13])\n",
        "    = (((47 + 11) + 42) + 13)\n",
        "    = ((58 + 42) + 13)\n",
        "    = (100 + 13)\n",
        "    = 113"
      ],
      "metadata": {
        "id": "-RwXKb4rZVOb"
      }
    },
    {
      "cell_type": "code",
      "source": [
        "## 1. Write a Python function that takes a list of numbers as input and returns the sum of all even numbers in the list.\n",
        "def sum_even_numbers(lst):\n",
        "    return sum(num for num in lst if num % 2 == 0)\n",
        "\n",
        "print(sum_even_numbers([1, 10, 15, 12 , 9, 6]))"
      ],
      "metadata": {
        "colab": {
          "base_uri": "https://localhost:8080/"
        },
        "id": "JDW8jEkVZRGd",
        "outputId": "dd049dcb-f4f9-41e2-adad-dfdfad0121c1"
      },
      "execution_count": null,
      "outputs": [
        {
          "output_type": "stream",
          "name": "stdout",
          "text": [
            "28\n"
          ]
        }
      ]
    },
    {
      "cell_type": "code",
      "source": [
        "## 2. Create a Python function that accepts a string and returns the reverse of that string.\n",
        "def reverse_string(s):\n",
        "    return s[::-1]\n",
        "\n",
        "input_str = \"pwskills\"\n",
        "reversed_str = reverse_string(input_str)\n",
        "print(reversed_str)"
      ],
      "metadata": {
        "colab": {
          "base_uri": "https://localhost:8080/"
        },
        "id": "NEbtkhWhodIL",
        "outputId": "eac0e90d-79af-4a04-e25a-cf2bc3ac5607"
      },
      "execution_count": null,
      "outputs": [
        {
          "output_type": "stream",
          "name": "stdout",
          "text": [
            "sllikswp\n"
          ]
        }
      ]
    },
    {
      "cell_type": "code",
      "source": [
        "## 3. Implement a Python function that takes a list of integers and returns a new list containing the squares of each number.\n",
        "\n",
        "def square_numbers(numbers):\n",
        "    return [x**2 for x in numbers]\n",
        "nums = [1, 2, 3, 4, 5]\n",
        "squared = square_numbers(nums)\n",
        "print(squared)"
      ],
      "metadata": {
        "colab": {
          "base_uri": "https://localhost:8080/"
        },
        "id": "0NgYboqGsIQc",
        "outputId": "ad058ace-0b6e-445d-d948-2f04c0494d5b"
      },
      "execution_count": null,
      "outputs": [
        {
          "output_type": "stream",
          "name": "stdout",
          "text": [
            "[1, 4, 9, 16, 25]\n"
          ]
        }
      ]
    },
    {
      "cell_type": "code",
      "source": [
        "## 4. Write a Python function that checks if a given number is prime or not from 1 to 200.\n",
        "def is_prime(n):\n",
        "    if n < 2:\n",
        "        return False\n",
        "    for i in range(2, int(n**0.5)+1):\n",
        "        if n % i == 0:\n",
        "            return False\n",
        "    return True\n",
        "\n",
        "    # Example usage:\n",
        "primes = [n for n in range(1, 201) if is_prime(n)]\n",
        "print(primes)"
      ],
      "metadata": {
        "colab": {
          "base_uri": "https://localhost:8080/"
        },
        "id": "TgVxt4A-sZy1",
        "outputId": "d12d1df9-aad2-4b08-d229-51372bf8b108"
      },
      "execution_count": null,
      "outputs": [
        {
          "output_type": "stream",
          "name": "stdout",
          "text": [
            "[2, 3, 5, 7, 11, 13, 17, 19, 23, 29, 31, 37, 41, 43, 47, 53, 59, 61, 67, 71, 73, 79, 83, 89, 97, 101, 103, 107, 109, 113, 127, 131, 137, 139, 149, 151, 157, 163, 167, 173, 179, 181, 191, 193, 197, 199]\n"
          ]
        }
      ]
    },
    {
      "cell_type": "code",
      "source": [
        "## 5. Create an iterator class in Python that generates the Fibonacci sequence up to a specified number of terms.\n",
        "class FibonacciIterator:\n",
        "    def __init__(self, max_terms):\n",
        "        self.max_terms = max_terms\n",
        "        self.a, self.b = 0, 1\n",
        "        self.count = 0\n",
        "\n",
        "    def __iter__(self):\n",
        "        return self\n",
        "\n",
        "    def __next__(self):\n",
        "        if self.count >= self.max_terms:\n",
        "            raise StopIteration\n",
        "        result = self.a\n",
        "        self.a, self.b = self.b, self.a + self.b\n",
        "        self.count += 1\n",
        "        return result\n",
        "\n",
        "# Example usage:\n",
        "fib = FibonacciIterator(10)\n",
        "print(list(fib))"
      ],
      "metadata": {
        "colab": {
          "base_uri": "https://localhost:8080/"
        },
        "id": "x0IA0cZltKdI",
        "outputId": "f4ff6333-8c8c-4ab0-e49b-0044c3ee2fef"
      },
      "execution_count": null,
      "outputs": [
        {
          "output_type": "stream",
          "name": "stdout",
          "text": [
            "[0, 1, 1, 2, 3, 5, 8, 13, 21, 34]\n"
          ]
        }
      ]
    },
    {
      "cell_type": "code",
      "source": [
        "## 6. Write a generator function in Python that yields the powers of 2 up to a given exponent.\n",
        "def powers_of_two(max_exp):\n",
        "    for i in range(max_exp + 1):\n",
        "        yield 2 ** i\n",
        "\n",
        "# Example usage:\n",
        "print(list(powers_of_two(5)))"
      ],
      "metadata": {
        "colab": {
          "base_uri": "https://localhost:8080/"
        },
        "id": "rBjOrrmrtU9G",
        "outputId": "1a4c6c41-6dd5-47c5-9968-db34d337197b"
      },
      "execution_count": null,
      "outputs": [
        {
          "output_type": "stream",
          "name": "stdout",
          "text": [
            "[1, 2, 4, 8, 16, 32]\n"
          ]
        }
      ]
    },
    {
      "cell_type": "code",
      "source": [
        "## 7. Implement a generator function that reads a file line by line and yields each line as a string.\n",
        "def read_lines(file_path):\n",
        "    with open(file_path, 'r') as file:\n",
        "        for line in file:\n",
        "            yield line.strip()\n",
        "\n",
        "# Example usage:\n",
        "# for line in read_lines(\"example.txt\"):\n",
        "#     print(line)"
      ],
      "metadata": {
        "id": "YZP-mXkRtfMT"
      },
      "execution_count": null,
      "outputs": []
    },
    {
      "cell_type": "code",
      "source": [
        "## 8. Use a lambda function in Python to sort a list of tuples based on the second element of each tuple.\n",
        "tuple_list = [(1, 5), (2, 1), (3, 3)]\n",
        "sorted_tuples = sorted(tuple_list, key=lambda x: x[1])\n",
        "print(sorted_tuples)"
      ],
      "metadata": {
        "colab": {
          "base_uri": "https://localhost:8080/"
        },
        "id": "LAg3tdXUtlr_",
        "outputId": "03673f41-ca0f-470a-c03e-d2dae33aae62"
      },
      "execution_count": null,
      "outputs": [
        {
          "output_type": "stream",
          "name": "stdout",
          "text": [
            "[(2, 1), (3, 3), (1, 5)]\n"
          ]
        }
      ]
    },
    {
      "cell_type": "code",
      "source": [
        "## 9. Write a Python program that uses `map()` to convert a list of temperatures from Celsius to Fahrenheit.\n",
        "celsius = [0, 20, 37, 100]\n",
        "fahrenheit = list(map(lambda c: (c * 9/5) + 32, celsius))\n",
        "print(fahrenheit)"
      ],
      "metadata": {
        "colab": {
          "base_uri": "https://localhost:8080/"
        },
        "id": "wap9E-Uyt2BX",
        "outputId": "842e314f-8b58-47a1-dc73-9685a71102c9"
      },
      "execution_count": null,
      "outputs": [
        {
          "output_type": "stream",
          "name": "stdout",
          "text": [
            "[32.0, 68.0, 98.6, 212.0]\n"
          ]
        }
      ]
    },
    {
      "cell_type": "code",
      "source": [
        "## 10. Create a Python program that uses `filter()` to remove all the vowels from a given string.\n",
        "def remove_vowels(s):\n",
        "    return ''.join(filter(lambda x: x.lower() not in 'aeiou', s))\n",
        "\n",
        "# Example usage:\n",
        "print(remove_vowels(\"Hello World\"))"
      ],
      "metadata": {
        "colab": {
          "base_uri": "https://localhost:8080/"
        },
        "id": "76oa9ewHuCiv",
        "outputId": "441da720-7ddf-460f-e3f0-62bfa0a05617"
      },
      "execution_count": null,
      "outputs": [
        {
          "output_type": "stream",
          "name": "stdout",
          "text": [
            "Hll Wrld\n"
          ]
        }
      ]
    },
    {
      "cell_type": "code",
      "source": [
        "## 11. Imagine an accounting routine used in a book shop. It works on a list with sublists, which look like this:\n",
        "\n",
        "  #order_number    book_tile and author                      ouantity                price per item\n",
        "  # 34587           learning python, mark lutz                  4                        40.95\n",
        "  # 98762           programming python, mark lutz               5                        56.80\n",
        "  # 77226           head first python , paul barry              3                        32.95\n",
        "  # 88112           einfuhrung in python3 , brend klein         3                        24.99\n",
        "\n",
        "#\"\"\"Write a Python program, which returns a list with 2-tuples. Each tuple consists of the order number and the\n",
        "#product of the price per item and the quantity. The product should be increased by 10,- € if the value of the\n",
        "#order is smaller than 100,00 €.\"\"\"\n",
        "\n",
        "orders = [\n",
        "    ['34587', 'Learning Python', 4, 40.95],\n",
        "    ['98762', 'Programming Python', 5, 56.80],\n",
        "    ['77226', 'Head First Python', 3, 32.95],\n",
        "    ['88112', 'Einführung in Python3', 3, 24.99]\n",
        "]\n",
        "\n",
        "order_totals = list(map(\n",
        "    lambda order: (order[0], round(order[2]*order[3] + (10 if order[2]*order[3] < 100 else 0), 2)),\n",
        "    orders\n",
        "))\n",
        "\n",
        "print(order_totals)"
      ],
      "metadata": {
        "id": "F4UDegSpa99S",
        "colab": {
          "base_uri": "https://localhost:8080/"
        },
        "outputId": "a7e674e5-3bae-4e42-f489-ef4c91e638e8"
      },
      "execution_count": 3,
      "outputs": [
        {
          "output_type": "stream",
          "name": "stdout",
          "text": [
            "[('34587', 163.8), ('98762', 284.0), ('77226', 108.85), ('88112', 84.97)]\n"
          ]
        }
      ]
    },
    {
      "cell_type": "code",
      "source": [],
      "metadata": {
        "id": "DRi9ceKb3Yty"
      },
      "execution_count": null,
      "outputs": []
    }
  ]
}